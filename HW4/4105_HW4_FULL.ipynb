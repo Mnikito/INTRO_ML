{
  "nbformat": 4,
  "nbformat_minor": 0,
  "metadata": {
    "colab": {
      "provenance": [],
      "collapsed_sections": [],
      "authorship_tag": "ABX9TyMlyO4aSk+Nv+DeiT9Lbc7v",
      "include_colab_link": true
    },
    "kernelspec": {
      "name": "python3",
      "display_name": "Python 3"
    },
    "language_info": {
      "name": "python"
    }
  },
  "cells": [
    {
      "cell_type": "markdown",
      "metadata": {
        "id": "view-in-github",
        "colab_type": "text"
      },
      "source": [
        "<a href=\"https://colab.research.google.com/github/Mnikito/INTRO_ML/blob/main/HW4/4105_HW4_FULL.ipynb\" target=\"_parent\"><img src=\"https://colab.research.google.com/assets/colab-badge.svg\" alt=\"Open In Colab\"/></a>"
      ]
    },
    {
      "cell_type": "code",
      "execution_count": 1,
      "metadata": {
        "id": "5FcM1eQ7BL9W"
      },
      "outputs": [],
      "source": [
        "import numpy as np \n",
        "import pandas as pd \n",
        "import matplotlib.pyplot as plt\n",
        "from sklearn import datasets\n",
        "from sklearn.metrics import confusion_matrix\n",
        "from sklearn.metrics import classification_report\n",
        "from sklearn.model_selection import train_test_split\n",
        "import seaborn as sns\n",
        "from sklearn.preprocessing import StandardScaler\n",
        "from sklearn import metrics\n",
        "import sklearn\n",
        "\n",
        "seed = 9"
      ]
    },
    {
      "cell_type": "markdown",
      "source": [
        "### Problem 1\n",
        "\n",
        "Use the cancer dataset to build an SVM classifier to classify the type of cancer (Malignant vs. benign). Use the PCA feature extraction for your training. Perform N number of independent training (N=1, …, K).\n",
        "\n",
        "1. Identify the optimum number of K, principal components that achieve the highest classification accuracy. "
      ],
      "metadata": {
        "id": "jFcP757zxOPS"
      }
    },
    {
      "cell_type": "code",
      "source": [
        "from sklearn.datasets import load_breast_cancer "
      ],
      "metadata": {
        "id": "aePCE2pWx2Ov"
      },
      "execution_count": 2,
      "outputs": []
    },
    {
      "cell_type": "code",
      "source": [
        "# Load Cancer Dataset and get ready for processing\n",
        "breast = load_breast_cancer() \n",
        "\n",
        "breast_data = breast.data \n",
        "\n",
        "breast_labels = breast.target \n",
        "labels = np.reshape(breast_labels,(569,1)) \n",
        "\n",
        "final_breast_data = np.concatenate([breast_data,labels],axis=1) \n",
        "breast_dataset = pd.DataFrame(final_breast_data) \n",
        "\n",
        "features = breast.feature_names \n",
        "features_labels = np.append(features,'label') \n",
        "\n",
        "\n",
        "breast_dataset.columns = features_labels \n",
        "\n",
        "#breast_dataset['label'].replace(0, 'Benign',inplace=True) \n",
        "#breast_dataset['label'].replace(1, 'Malignant',inplace=True) \n",
        "\n",
        "#breast_dataset.tail() \n",
        "\n",
        "# Preprocessing\n",
        "y = breast_dataset.pop('label')\n",
        "\n",
        "X = breast_dataset.copy()\n",
        "\n",
        "X_train, X_test, y_train, y_test = train_test_split(X,y, test_size=0.2, random_state=seed)\n",
        "\n",
        "# Standarizing Dataset\n",
        "\n",
        "sc = StandardScaler()\n",
        "\n",
        "X_train_std = sc.fit_transform(X_train)\n",
        "\n",
        "X_test_std = sc.fit_transform(X_test)\n"
      ],
      "metadata": {
        "id": "G935ctqbwk5r"
      },
      "execution_count": 3,
      "outputs": []
    },
    {
      "cell_type": "code",
      "source": [
        "from sklearn.decomposition import PCA as RandomizedPCA\n",
        "from sklearn.svm import SVC\n",
        "\n",
        "kernel_type = 'rbf'\n",
        "\n",
        "acc = []\n",
        "prec = []\n",
        "rec = []\n",
        "kk =[]\n",
        "\n",
        "\n",
        "for K in range(1, 25):\n",
        "  pca = RandomizedPCA(n_components=K, svd_solver = 'full', random_state=88)\n",
        "  pca.fit(X_train_std)\n",
        "  df_train_pca = pca.fit_transform(X_train_std)\n",
        "  df_test_pca = pca.fit_transform(X_test_std)\n",
        "  df_train_pca_std = sc.fit_transform(df_train_pca)\n",
        "  df_test_pca_std = sc.fit_transform(df_test_pca)\n",
        "\n",
        "\n",
        "  LR_PCA_Learner = SVC(kernel=kernel_type, class_weight='balanced')\n",
        "\n",
        "  LR_PCA_Model = LR_PCA_Learner.fit(df_train_pca_std, y_train)\n",
        "\n",
        "\n",
        "  predicted = LR_PCA_Model.predict(df_test_pca)\n",
        "\n",
        "  kk.append(K)\n",
        "  acc.append(metrics.accuracy_score(y_test, predicted)) \n",
        "  prec.append(metrics.precision_score(y_test, predicted)) \n",
        "  rec.append(metrics.recall_score(y_test, predicted)) "
      ],
      "metadata": {
        "id": "WdJTZgDD0aRG"
      },
      "execution_count": 4,
      "outputs": []
    },
    {
      "cell_type": "code",
      "source": [
        "# Plot\n",
        "plt.plot(kk,acc, label = \"Accuracy\")\n",
        "plt.plot(kk,prec, label = \"Precision\")\n",
        "plt.plot(kk,rec, label = \"Recall\")\n",
        "plt.legend()\n",
        "plt.xlabel(\"n_components\")\n",
        "plt.savefig(\"PCA_Plot.png\")"
      ],
      "metadata": {
        "colab": {
          "base_uri": "https://localhost:8080/",
          "height": 280
        },
        "id": "-sVkSMCZEB52",
        "outputId": "6a6685b0-bb81-4b30-f642-25125094c1b9"
      },
      "execution_count": 5,
      "outputs": [
        {
          "output_type": "display_data",
          "data": {
            "text/plain": [
              "<Figure size 432x288 with 1 Axes>"
            ],
            "image/png": "[encoded data removed]"
          },
          "metadata": {
            "needs_background": "light"
          }
        }
      ]
    },
    {
      "cell_type": "code",
      "source": [
        "optimal_K = np.argmax(acc) + 1\n",
        "print(\"Optimum K is\", optimal_K)"
      ],
      "metadata": {
        "colab": {
          "base_uri": "https://localhost:8080/"
        },
        "id": "3wdFoix5MRnc",
        "outputId": "5dfe6965-e22a-46c5-ac72-ff287b328717"
      },
      "execution_count": 6,
      "outputs": [
        {
          "output_type": "stream",
          "name": "stdout",
          "text": [
            "Optimum K is 11\n"
          ]
        }
      ]
    },
    {
      "cell_type": "markdown",
      "source": [
        "2. Plot your classification accuracy, precision, and recall over a different number of Ks. \n",
        "*See above\n",
        "\n",
        "3. Explore different kernel tricks to capture non-linearities within your data. Plot the results and compare the accuracies for different kernels."
      ],
      "metadata": {
        "id": "eema0nRpM1CF"
      }
    },
    {
      "cell_type": "code",
      "source": [
        "kernel_types = ['linear','poly','rbf','sigmoid','precomputed']\n",
        "\n",
        "\n",
        "pca = RandomizedPCA(n_components = optimal_K, svd_solver = 'full', random_state=88)\n",
        "pca.fit(X_train_std)\n",
        "df_train_pca = pca.fit_transform(X_train_std)\n",
        "df_test_pca = pca.fit_transform(X_test_std)\n",
        "df_train_pca_std = sc.fit_transform(df_train_pca)\n",
        "df_test_pca_std = sc.fit_transform(df_test_pca)\n",
        "\n",
        "\n",
        "for i in range(5):\n",
        "  LR_PCA_Learner = SVC(kernel=kernel_types[0], class_weight='balanced')\n",
        "\n",
        "  LR_PCA_Model = LR_PCA_Learner.fit(df_train_pca_std, y_train)\n",
        "\n",
        "\n",
        "  predicted = LR_PCA_Model.predict(df_test_pca)\n",
        "  expected = y_test\n",
        "\n",
        "  #Summarize model fit\n",
        "  print(\"\\n\\nMetrics for \", kernel_types[i], \" Kernel\")\n",
        "  print(metrics.classification_report(expected,predicted))"
      ],
      "metadata": {
        "colab": {
          "base_uri": "https://localhost:8080/"
        },
        "id": "06IjtgjEM0bF",
        "outputId": "e3ab97c0-293b-4e7a-dcb9-889b8971b4f8"
      },
      "execution_count": 7,
      "outputs": [
        {
          "output_type": "stream",
          "name": "stdout",
          "text": [
            "\n",
            "\n",
            "Metrics for  linear  Kernel\n",
            "              precision    recall  f1-score   support\n",
            "\n",
            "         0.0       0.89      0.97      0.93        40\n",
            "         1.0       0.99      0.93      0.96        74\n",
            "\n",
            "    accuracy                           0.95       114\n",
            "   macro avg       0.94      0.95      0.94       114\n",
            "weighted avg       0.95      0.95      0.95       114\n",
            "\n",
            "\n",
            "\n",
            "Metrics for  poly  Kernel\n",
            "              precision    recall  f1-score   support\n",
            "\n",
            "         0.0       0.89      0.97      0.93        40\n",
            "         1.0       0.99      0.93      0.96        74\n",
            "\n",
            "    accuracy                           0.95       114\n",
            "   macro avg       0.94      0.95      0.94       114\n",
            "weighted avg       0.95      0.95      0.95       114\n",
            "\n",
            "\n",
            "\n",
            "Metrics for  rbf  Kernel\n",
            "              precision    recall  f1-score   support\n",
            "\n",
            "         0.0       0.89      0.97      0.93        40\n",
            "         1.0       0.99      0.93      0.96        74\n",
            "\n",
            "    accuracy                           0.95       114\n",
            "   macro avg       0.94      0.95      0.94       114\n",
            "weighted avg       0.95      0.95      0.95       114\n",
            "\n",
            "\n",
            "\n",
            "Metrics for  sigmoid  Kernel\n",
            "              precision    recall  f1-score   support\n",
            "\n",
            "         0.0       0.89      0.97      0.93        40\n",
            "         1.0       0.99      0.93      0.96        74\n",
            "\n",
            "    accuracy                           0.95       114\n",
            "   macro avg       0.94      0.95      0.94       114\n",
            "weighted avg       0.95      0.95      0.95       114\n",
            "\n",
            "\n",
            "\n",
            "Metrics for  precomputed  Kernel\n",
            "              precision    recall  f1-score   support\n",
            "\n",
            "         0.0       0.89      0.97      0.93        40\n",
            "         1.0       0.99      0.93      0.96        74\n",
            "\n",
            "    accuracy                           0.95       114\n",
            "   macro avg       0.94      0.95      0.94       114\n",
            "weighted avg       0.95      0.95      0.95       114\n",
            "\n"
          ]
        }
      ]
    },
    {
      "cell_type": "code",
      "source": [
        "kernel_types = ['linear','poly','rbf','sigmoid','precomputed']\n",
        "\n",
        "acc = np.zeros((5,24))\n",
        "\n",
        "for i in range(5):\n",
        "  kk =[]\n",
        "  for K in range(1, 25):\n",
        "    pca = RandomizedPCA(n_components=K, svd_solver = 'full', random_state=88)\n",
        "    pca.fit(X_train_std)\n",
        "    df_train_pca = pca.fit_transform(X_train_std)\n",
        "    df_test_pca = pca.fit_transform(X_test_std)\n",
        "    df_train_pca_std = sc.fit_transform(df_train_pca)\n",
        "    df_test_pca_std = sc.fit_transform(df_test_pca)\n",
        "\n",
        "\n",
        "    LR_PCA_Learner = SVC(kernel=kernel_types[0], class_weight='balanced')\n",
        "\n",
        "    LR_PCA_Model = LR_PCA_Learner.fit(df_train_pca_std, y_train)\n",
        "\n",
        "\n",
        "    predicted = LR_PCA_Model.predict(df_test_pca)\n",
        "\n",
        "    kk.append(K)\n",
        "    acc[i,K-1] = metrics.accuracy_score(y_test, predicted)\n",
        "\n",
        "\n",
        "\n",
        "# Plot\n",
        "plt.plot(kk,acc[0], label = kernel_types[0])\n",
        "plt.plot(kk,acc[1], label = kernel_types[1])\n",
        "plt.plot(kk,acc[2], label = kernel_types[2])\n",
        "plt.plot(kk,acc[3], label = kernel_types[3])\n",
        "plt.plot(kk,acc[4], label = kernel_types[4])\n",
        "\n",
        "plt.legend()\n",
        "plt.xlabel(\"n_components\")\n",
        "plt.ylabel(\"Accuracy\")\n",
        "plt.savefig(\"Kernels_Accuracy_Plot.png\")"
      ],
      "metadata": {
        "colab": {
          "base_uri": "https://localhost:8080/",
          "height": 280
        },
        "id": "DMgF-JP0i-bI",
        "outputId": "245b10ca-6808-44e3-fe95-eed36c9bef3e"
      },
      "execution_count": 8,
      "outputs": [
        {
          "output_type": "display_data",
          "data": {
            "text/plain": [
              "<Figure size 432x288 with 1 Axes>"
            ],
            "image/png": "[encoded data removed]"
          },
          "metadata": {
            "needs_background": "light"
          }
        }
      ]
    },
    {
      "cell_type": "markdown",
      "source": [
        "### Problem 2\n",
        "\n",
        "Develop a SVR regression model that predicts housing price based on the following input variables:\n",
        "\n",
        "Area, bedrooms, bathrooms, stories, mainroad, guestroom, basement, hotwaterheating, airconditioning, parking, prefarea"
      ],
      "metadata": {
        "id": "_FQTP_nFQjIb"
      }
    },
    {
      "cell_type": "markdown",
      "source": [
        "1. Plot your regression model for SVR similar to the sample code provided on Canvas."
      ],
      "metadata": {
        "id": "GEf2Kc1_QsCr"
      }
    },
    {
      "cell_type": "code",
      "source": [
        "housing = pd.DataFrame(pd.read_csv('Housing.csv'))\n",
        "varlist = ['mainroad', 'guestroom','basement','hotwaterheating', 'airconditioning', 'prefarea']\n",
        "# Defining the mapping function\n",
        "def binary_map(x):\n",
        "  return x.map({'yes':1,'no':0})\n",
        "\n",
        "housing[varlist] = housing[varlist].apply(binary_map)\n",
        "\n",
        "np.random.seed(0)\n",
        "\n",
        "\n",
        "num_vars = ['area', 'bedrooms', 'bathrooms', 'stories', 'mainroad','guestroom','basement','hotwaterheating','airconditioning', 'parking','prefarea', 'price']\n",
        "dataset = housing[num_vars]\n",
        "\n",
        "# Preprocessing\n",
        "y = dataset.pop('price')\n",
        "\n",
        "X = dataset.copy()\n",
        "\n",
        "X_train, X_test, y_train, y_test = train_test_split(X,y, test_size=0.2, random_state=seed)\n",
        "\n",
        "# Standarizing Dataset\n",
        "\n",
        "sc = StandardScaler()\n",
        "\n",
        "X_train_std = sc.fit_transform(X_train)\n",
        "\n",
        "X_test_std = sc.fit_transform(X_test)"
      ],
      "metadata": {
        "id": "92ybupjLQrqR"
      },
      "execution_count": 9,
      "outputs": []
    },
    {
      "cell_type": "code",
      "source": [
        "kernel_types = ['linear','poly','rbf']"
      ],
      "metadata": {
        "id": "n7IpjhK-pxE2"
      },
      "execution_count": 10,
      "outputs": []
    },
    {
      "cell_type": "code",
      "source": [
        "from sklearn.svm import SVR\n",
        "\n",
        "kernel_type = kernel_types[0]\n",
        "\n",
        "acc = []\n",
        "prec = []\n",
        "rec = []\n",
        "kk =[]\n",
        "\n",
        "\n",
        "for K in range(1, 11):\n",
        "  pca = RandomizedPCA(n_components=K, svd_solver = 'full', random_state=88)\n",
        "  pca.fit(X_train_std)\n",
        "  df_train_pca = pca.fit_transform(X_train_std)\n",
        "  df_test_pca = pca.fit_transform(X_test_std)\n",
        "  df_train_pca_std = sc.fit_transform(df_train_pca)\n",
        "  df_test_pca_std = sc.fit_transform(df_test_pca)\n",
        "\n",
        "\n",
        "  LR_PCA_Learner = SVR(kernel=kernel_type, C=1e6)\n",
        "\n",
        "  LR_PCA_Model = LR_PCA_Learner.fit(df_train_pca_std, y_train)\n",
        "\n",
        "\n",
        "  predicted = LR_PCA_Model.predict(df_test_pca)\n",
        "  #predicted = predicted.reshape(-1, 1)\n",
        "\n",
        "\n",
        "\n",
        "  kk.append(K)\n",
        "  acc.append(LR_PCA_Model.score(df_test_pca, predicted)) \n",
        "\n",
        "# Plot\n",
        "plt.plot(kk,acc, label = kernel_type)\n",
        "#plt.plot(kk,prec, label = \"Precision\")\n",
        "#plt.plot(kk,rec, label = \"Recall\")\n",
        "plt.legend()\n",
        "plt.xlabel(\"n_components\")\n",
        "plt.ylabel(\"Score\")\n",
        "plt.savefig(\"PCA_Plot.png\")"
      ],
      "metadata": {
        "colab": {
          "base_uri": "https://localhost:8080/",
          "height": 280
        },
        "id": "1HaKwW0Kpl5r",
        "outputId": "f7f1fc6d-541f-43d1-9218-7a2f4b7d6045"
      },
      "execution_count": 12,
      "outputs": [
        {
          "output_type": "display_data",
          "data": {
            "text/plain": [
              "<Figure size 432x288 with 1 Axes>"
            ],
            "image/png": "[encoded data removed]"
          },
          "metadata": {
            "needs_background": "light"
          }
        }
      ]
    },
    {
      "cell_type": "code",
      "source": [
        "from sklearn.svm import SVR\n",
        "\n",
        "kernel_type = kernel_types[1]\n",
        "\n",
        "acc = []\n",
        "prec = []\n",
        "rec = []\n",
        "kk =[]\n",
        "\n",
        "\n",
        "for K in range(1, 11):\n",
        "  pca = RandomizedPCA(n_components=K, svd_solver = 'full', random_state=88)\n",
        "  pca.fit(X_train_std)\n",
        "  df_train_pca = pca.fit_transform(X_train_std)\n",
        "  df_test_pca = pca.fit_transform(X_test_std)\n",
        "  df_train_pca_std = sc.fit_transform(df_train_pca)\n",
        "  df_test_pca_std = sc.fit_transform(df_test_pca)\n",
        "\n",
        "\n",
        "  LR_PCA_Learner = SVR(kernel=kernel_type, C=1e6)\n",
        "\n",
        "  LR_PCA_Model = LR_PCA_Learner.fit(df_train_pca_std, y_train)\n",
        "\n",
        "\n",
        "  #predicted = LR_PCA_Model.predict(df_test_pca)\n",
        "  #predicted = predicted.reshape(-1, 1)\n",
        "\n",
        "\n",
        "\n",
        "  kk.append(K)\n",
        "  acc.append(LR_PCA_Model.score(df_test_pca, predicted)) \n",
        "\n",
        "# Plot\n",
        "plt.plot(kk,acc, label = kernel_type)\n",
        "#plt.plot(kk,prec, label = \"Precision\")\n",
        "#plt.plot(kk,rec, label = \"Recall\")\n",
        "plt.legend()\n",
        "plt.xlabel(\"n_components\")\n",
        "plt.ylabel(\"Score\")\n",
        "plt.savefig(\"PCA_Plot.png\")"
      ],
      "metadata": {
        "colab": {
          "base_uri": "https://localhost:8080/",
          "height": 280
        },
        "id": "UZxmYSQdu3p3",
        "outputId": "93f4af78-3f37-4c52-aba5-186e77a56a15"
      },
      "execution_count": 13,
      "outputs": [
        {
          "output_type": "display_data",
          "data": {
            "text/plain": [
              "<Figure size 432x288 with 1 Axes>"
            ],
            "image/png": "[encoded data removed]"
          },
          "metadata": {
            "needs_background": "light"
          }
        }
      ]
    },
    {
      "cell_type": "code",
      "source": [
        "from sklearn.svm import SVR\n",
        "\n",
        "for s in range(3):\n",
        "  kernel_type = kernel_types[s]\n",
        "\n",
        "  acc = []\n",
        "  prec = []\n",
        "  rec = []\n",
        "  kk =[]\n",
        "\n",
        "\n",
        "  for K in range(1, 11):\n",
        "    pca = RandomizedPCA(n_components=K, svd_solver = 'full', random_state=88)\n",
        "    pca.fit(X_train_std)\n",
        "    df_train_pca = pca.fit_transform(X_train_std)\n",
        "    df_test_pca = pca.fit_transform(X_test_std)\n",
        "    df_train_pca_std = sc.fit_transform(df_train_pca)\n",
        "    df_test_pca_std = sc.fit_transform(df_test_pca)\n",
        "\n",
        "\n",
        "    LR_PCA_Learner = SVR(kernel=kernel_type, C=1e6)\n",
        "\n",
        "    LR_PCA_Model = LR_PCA_Learner.fit(df_train_pca_std, y_train)\n",
        "\n",
        "\n",
        "    #predicted = LR_PCA_Model.predict(df_test_pca)\n",
        "    #predicted = predicted.reshape(-1, 1)\n",
        "\n",
        "\n",
        "\n",
        "    kk.append(K)\n",
        "    acc.append(LR_PCA_Model.score(df_test_pca, predicted)) \n",
        "\n",
        "  # Plot\n",
        "  plt.plot(kk,acc, label = kernel_type)\n",
        "  #plt.plot(kk,prec, label = \"Precision\")\n",
        "  #plt.plot(kk,rec, label = \"Recall\")\n",
        "plt.legend()\n",
        "plt.xlabel(\"n_components\")\n",
        "plt.ylabel(\"Score\")\n",
        "plt.savefig(\"PCA_Plot.png\")"
      ],
      "metadata": {
        "colab": {
          "base_uri": "https://localhost:8080/",
          "height": 280
        },
        "id": "-UJYdJfCvHxU",
        "outputId": "30b82c04-2ed8-4a9e-d156-7a1dbf8ade05"
      },
      "execution_count": 14,
      "outputs": [
        {
          "output_type": "display_data",
          "data": {
            "text/plain": [
              "<Figure size 432x288 with 1 Axes>"
            ],
            "image/png": "[encoded data removed]"
          },
          "metadata": {
            "needs_background": "light"
          }
        }
      ]
    }
  ]
}