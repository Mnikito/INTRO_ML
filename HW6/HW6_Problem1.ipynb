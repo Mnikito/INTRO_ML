{
  "nbformat": 4,
  "nbformat_minor": 0,
  "metadata": {
    "colab": {
      "name": "HW2_Problem2.ipynb",
      "provenance": [],
      "collapsed_sections": [],
      "authorship_tag": "ABX9TyN47a9IYJYy0rAARpXRv8UD",
      "include_colab_link": true
    },
    "kernelspec": {
      "name": "python3",
      "display_name": "Python 3"
    },
    "language_info": {
      "name": "python"
    },
    "widgets": {
      "application/vnd.jupyter.widget-state+json": {
        "f8789a535740478693bde2a430d16217": {
          "model_module": "@jupyter-widgets/controls",
          "model_name": "HBoxModel",
          "model_module_version": "1.5.0",
          "state": {
            "_view_name": "HBoxView",
            "_dom_classes": [],
            "_model_name": "HBoxModel",
            "_view_module": "@jupyter-widgets/controls",
            "_model_module_version": "1.5.0",
            "_view_count": null,
            "_view_module_version": "1.5.0",
            "box_style": "",
            "layout": "IPY_MODEL_6331c7e208b6427c83adb86e57b872a3",
            "_model_module": "@jupyter-widgets/controls",
            "children": [
              "IPY_MODEL_d7d8073fcd284359a8a6055acb501cc4",
              "IPY_MODEL_8acaf1b4a85c4c2cad113e4765bcb5e5",
              "IPY_MODEL_af1dbd10af4a4e5382d4ff243a83d179"
            ]
          }
        },
        "6331c7e208b6427c83adb86e57b872a3": {
          "model_module": "@jupyter-widgets/base",
          "model_name": "LayoutModel",
          "model_module_version": "1.2.0",
          "state": {
            "_view_name": "LayoutView",
            "grid_template_rows": null,
            "right": null,
            "justify_content": null,
            "_view_module": "@jupyter-widgets/base",
            "overflow": null,
            "_model_module_version": "1.2.0",
            "_view_count": null,
            "flex_flow": null,
            "width": null,
            "min_width": null,
            "border": null,
            "align_items": null,
            "bottom": null,
            "_model_module": "@jupyter-widgets/base",
            "top": null,
            "grid_column": null,
            "overflow_y": null,
            "overflow_x": null,
            "grid_auto_flow": null,
            "grid_area": null,
            "grid_template_columns": null,
            "flex": null,
            "_model_name": "LayoutModel",
            "justify_items": null,
            "grid_row": null,
            "max_height": null,
            "align_content": null,
            "visibility": null,
            "align_self": null,
            "height": null,
            "min_height": null,
            "padding": null,
            "grid_auto_rows": null,
            "grid_gap": null,
            "max_width": null,
            "order": null,
            "_view_module_version": "1.2.0",
            "grid_template_areas": null,
            "object_position": null,
            "object_fit": null,
            "grid_auto_columns": null,
            "margin": null,
            "display": null,
            "left": null
          }
        },
        "d7d8073fcd284359a8a6055acb501cc4": {
          "model_module": "@jupyter-widgets/controls",
          "model_name": "HTMLModel",
          "model_module_version": "1.5.0",
          "state": {
            "_view_name": "HTMLView",
            "style": "IPY_MODEL_d9fc5eae0d094d6490bc51095efb96a1",
            "_dom_classes": [],
            "description": "",
            "_model_name": "HTMLModel",
            "placeholder": "​",
            "_view_module": "@jupyter-widgets/controls",
            "_model_module_version": "1.5.0",
            "value": "",
            "_view_count": null,
            "_view_module_version": "1.5.0",
            "description_tooltip": null,
            "_model_module": "@jupyter-widgets/controls",
            "layout": "IPY_MODEL_663f12ae9b5d4702a4da1f18e660c606"
          }
        },
        "8acaf1b4a85c4c2cad113e4765bcb5e5": {
          "model_module": "@jupyter-widgets/controls",
          "model_name": "FloatProgressModel",
          "model_module_version": "1.5.0",
          "state": {
            "_view_name": "ProgressView",
            "style": "IPY_MODEL_937c0a3c098f4c1fb5cf9f466d57033f",
            "_dom_classes": [],
            "description": "",
            "_model_name": "FloatProgressModel",
            "bar_style": "success",
            "max": 170498071,
            "_view_module": "@jupyter-widgets/controls",
            "_model_module_version": "1.5.0",
            "value": 170498071,
            "_view_count": null,
            "_view_module_version": "1.5.0",
            "orientation": "horizontal",
            "min": 0,
            "description_tooltip": null,
            "_model_module": "@jupyter-widgets/controls",
            "layout": "IPY_MODEL_4249ea2f774647628ad24de55c17f51b"
          }
        },
        "af1dbd10af4a4e5382d4ff243a83d179": {
          "model_module": "@jupyter-widgets/controls",
          "model_name": "HTMLModel",
          "model_module_version": "1.5.0",
          "state": {
            "_view_name": "HTMLView",
            "style": "IPY_MODEL_4d029badf47a4090b933c20c64725e87",
            "_dom_classes": [],
            "description": "",
            "_model_name": "HTMLModel",
            "placeholder": "​",
            "_view_module": "@jupyter-widgets/controls",
            "_model_module_version": "1.5.0",
            "value": " 170499072/? [00:02&lt;00:00, 67915621.20it/s]",
            "_view_count": null,
            "_view_module_version": "1.5.0",
            "description_tooltip": null,
            "_model_module": "@jupyter-widgets/controls",
            "layout": "IPY_MODEL_3fc92a3cbea64e1c8245a3c3ab49ea61"
          }
        },
        "d9fc5eae0d094d6490bc51095efb96a1": {
          "model_module": "@jupyter-widgets/controls",
          "model_name": "DescriptionStyleModel",
          "model_module_version": "1.5.0",
          "state": {
            "_view_name": "StyleView",
            "_model_name": "DescriptionStyleModel",
            "description_width": "",
            "_view_module": "@jupyter-widgets/base",
            "_model_module_version": "1.5.0",
            "_view_count": null,
            "_view_module_version": "1.2.0",
            "_model_module": "@jupyter-widgets/controls"
          }
        },
        "663f12ae9b5d4702a4da1f18e660c606": {
          "model_module": "@jupyter-widgets/base",
          "model_name": "LayoutModel",
          "model_module_version": "1.2.0",
          "state": {
            "_view_name": "LayoutView",
            "grid_template_rows": null,
            "right": null,
            "justify_content": null,
            "_view_module": "@jupyter-widgets/base",
            "overflow": null,
            "_model_module_version": "1.2.0",
            "_view_count": null,
            "flex_flow": null,
            "width": null,
            "min_width": null,
            "border": null,
            "align_items": null,
            "bottom": null,
            "_model_module": "@jupyter-widgets/base",
            "top": null,
            "grid_column": null,
            "overflow_y": null,
            "overflow_x": null,
            "grid_auto_flow": null,
            "grid_area": null,
            "grid_template_columns": null,
            "flex": null,
            "_model_name": "LayoutModel",
            "justify_items": null,
            "grid_row": null,
            "max_height": null,
            "align_content": null,
            "visibility": null,
            "align_self": null,
            "height": null,
            "min_height": null,
            "padding": null,
            "grid_auto_rows": null,
            "grid_gap": null,
            "max_width": null,
            "order": null,
            "_view_module_version": "1.2.0",
            "grid_template_areas": null,
            "object_position": null,
            "object_fit": null,
            "grid_auto_columns": null,
            "margin": null,
            "display": null,
            "left": null
          }
        },
        "937c0a3c098f4c1fb5cf9f466d57033f": {
          "model_module": "@jupyter-widgets/controls",
          "model_name": "ProgressStyleModel",
          "model_module_version": "1.5.0",
          "state": {
            "_view_name": "StyleView",
            "_model_name": "ProgressStyleModel",
            "description_width": "",
            "_view_module": "@jupyter-widgets/base",
            "_model_module_version": "1.5.0",
            "_view_count": null,
            "_view_module_version": "1.2.0",
            "bar_color": null,
            "_model_module": "@jupyter-widgets/controls"
          }
        },
        "4249ea2f774647628ad24de55c17f51b": {
          "model_module": "@jupyter-widgets/base",
          "model_name": "LayoutModel",
          "model_module_version": "1.2.0",
          "state": {
            "_view_name": "LayoutView",
            "grid_template_rows": null,
            "right": null,
            "justify_content": null,
            "_view_module": "@jupyter-widgets/base",
            "overflow": null,
            "_model_module_version": "1.2.0",
            "_view_count": null,
            "flex_flow": null,
            "width": null,
            "min_width": null,
            "border": null,
            "align_items": null,
            "bottom": null,
            "_model_module": "@jupyter-widgets/base",
            "top": null,
            "grid_column": null,
            "overflow_y": null,
            "overflow_x": null,
            "grid_auto_flow": null,
            "grid_area": null,
            "grid_template_columns": null,
            "flex": null,
            "_model_name": "LayoutModel",
            "justify_items": null,
            "grid_row": null,
            "max_height": null,
            "align_content": null,
            "visibility": null,
            "align_self": null,
            "height": null,
            "min_height": null,
            "padding": null,
            "grid_auto_rows": null,
            "grid_gap": null,
            "max_width": null,
            "order": null,
            "_view_module_version": "1.2.0",
            "grid_template_areas": null,
            "object_position": null,
            "object_fit": null,
            "grid_auto_columns": null,
            "margin": null,
            "display": null,
            "left": null
          }
        },
        "4d029badf47a4090b933c20c64725e87": {
          "model_module": "@jupyter-widgets/controls",
          "model_name": "DescriptionStyleModel",
          "model_module_version": "1.5.0",
          "state": {
            "_view_name": "StyleView",
            "_model_name": "DescriptionStyleModel",
            "description_width": "",
            "_view_module": "@jupyter-widgets/base",
            "_model_module_version": "1.5.0",
            "_view_count": null,
            "_view_module_version": "1.2.0",
            "_model_module": "@jupyter-widgets/controls"
          }
        },
        "3fc92a3cbea64e1c8245a3c3ab49ea61": {
          "model_module": "@jupyter-widgets/base",
          "model_name": "LayoutModel",
          "model_module_version": "1.2.0",
          "state": {
            "_view_name": "LayoutView",
            "grid_template_rows": null,
            "right": null,
            "justify_content": null,
            "_view_module": "@jupyter-widgets/base",
            "overflow": null,
            "_model_module_version": "1.2.0",
            "_view_count": null,
            "flex_flow": null,
            "width": null,
            "min_width": null,
            "border": null,
            "align_items": null,
            "bottom": null,
            "_model_module": "@jupyter-widgets/base",
            "top": null,
            "grid_column": null,
            "overflow_y": null,
            "overflow_x": null,
            "grid_auto_flow": null,
            "grid_area": null,
            "grid_template_columns": null,
            "flex": null,
            "_model_name": "LayoutModel",
            "justify_items": null,
            "grid_row": null,
            "max_height": null,
            "align_content": null,
            "visibility": null,
            "align_self": null,
            "height": null,
            "min_height": null,
            "padding": null,
            "grid_auto_rows": null,
            "grid_gap": null,
            "max_width": null,
            "order": null,
            "_view_module_version": "1.2.0",
            "grid_template_areas": null,
            "object_position": null,
            "object_fit": null,
            "grid_auto_columns": null,
            "margin": null,
            "display": null,
            "left": null
          }
        }
      }
    }
  },
  "cells": [
    {
      "cell_type": "markdown",
      "metadata": {
        "id": "view-in-github",
        "colab_type": "text"
      },
      "source": [
        "<a href=\"https://colab.research.google.com/github/Mnikito/4016/blob/main/HW2/HW2_Problem2.ipynb\" target=\"_parent\"><img src=\"https://colab.research.google.com/assets/colab-badge.svg\" alt=\"Open In Colab\"/></a>"
      ]
    },
    {
      "cell_type": "code",
      "source": [
        "%matplotlib inline\n",
        "import numpy as np \n",
        "import pandas as pd \n",
        "\n",
        "import torch\n",
        "import torch.optim as optim\n",
        "import torch.nn as nn\n",
        "\n",
        "torch.set_printoptions(edgeitems=2, linewidth=75)\n",
        " \n",
        "# Data Visualisation \n",
        "import matplotlib.pyplot as plt  \n",
        "import seaborn as sns\n",
        "\n",
        "torch.manual_seed(123)"
      ],
      "metadata": {
        "colab": {
          "base_uri": "https://localhost:8080/"
        },
        "id": "wlHgiQCQu8hS",
        "outputId": "ede3a8d6-84f0-43e8-d66b-5f13e6a10353"
      },
      "execution_count": 1,
      "outputs": [
        {
          "output_type": "execute_result",
          "data": {
            "text/plain": [
              "<torch._C.Generator at 0x7f34f2f49550>"
            ]
          },
          "metadata": {},
          "execution_count": 1
        }
      ]
    },
    {
      "cell_type": "code",
      "source": [
        "#Download CIFAR10\n",
        "from torchvision import datasets\n",
        "\n",
        "cifar10 = datasets.CIFAR10('data', train=True, download=True)\n",
        "cifar10_val = datasets.CIFAR10('data', train=False, download=True)"
      ],
      "metadata": {
        "colab": {
          "base_uri": "https://localhost:8080/",
          "height": 101,
          "referenced_widgets": [
            "f8789a535740478693bde2a430d16217",
            "6331c7e208b6427c83adb86e57b872a3",
            "d7d8073fcd284359a8a6055acb501cc4",
            "8acaf1b4a85c4c2cad113e4765bcb5e5",
            "af1dbd10af4a4e5382d4ff243a83d179",
            "d9fc5eae0d094d6490bc51095efb96a1",
            "663f12ae9b5d4702a4da1f18e660c606",
            "937c0a3c098f4c1fb5cf9f466d57033f",
            "4249ea2f774647628ad24de55c17f51b",
            "4d029badf47a4090b933c20c64725e87",
            "3fc92a3cbea64e1c8245a3c3ab49ea61"
          ]
        },
        "id": "KO80mL6_u8jw",
        "outputId": "a286bbdc-84fa-44ee-8a91-2f90524ec980"
      },
      "execution_count": 2,
      "outputs": [
        {
          "output_type": "stream",
          "name": "stdout",
          "text": [
            "Downloading https://www.cs.toronto.edu/~kriz/cifar-10-python.tar.gz to data/cifar-10-python.tar.gz\n"
          ]
        },
        {
          "output_type": "display_data",
          "data": {
            "application/vnd.jupyter.widget-view+json": {
              "model_id": "f8789a535740478693bde2a430d16217",
              "version_minor": 0,
              "version_major": 2
            },
            "text/plain": [
              "  0%|          | 0/170498071 [00:00<?, ?it/s]"
            ]
          },
          "metadata": {}
        },
        {
          "output_type": "stream",
          "name": "stdout",
          "text": [
            "Extracting data/cifar-10-python.tar.gz to data\n",
            "Files already downloaded and verified\n"
          ]
        }
      ]
    },
    {
      "cell_type": "code",
      "source": [
        "class_names = ['airplane','automobile','bird','cat','deer',\n",
        "               'dog','frog','horse','ship','truck']\n",
        "num_classes = 10"
      ],
      "metadata": {
        "id": "etHBINoAu8mN"
      },
      "execution_count": 3,
      "outputs": []
    },
    {
      "cell_type": "code",
      "source": [
        "from torchvision import transforms\n",
        "\n",
        "\n",
        "to_tensor = transforms.ToTensor()"
      ],
      "metadata": {
        "id": "KLEtqUgjv1kg"
      },
      "execution_count": 4,
      "outputs": []
    },
    {
      "cell_type": "code",
      "source": [
        "cifar10 = datasets.CIFAR10('data', train=True, download=False,\n",
        "                          transform=transforms.ToTensor())\n",
        "\n",
        "imgs = torch.stack([img for img, _ in cifar10], dim=3)"
      ],
      "metadata": {
        "id": "ji67WZMcu8of"
      },
      "execution_count": 5,
      "outputs": []
    },
    {
      "cell_type": "code",
      "source": [
        "imgs.view(3, -1).mean(dim=1)"
      ],
      "metadata": {
        "colab": {
          "base_uri": "https://localhost:8080/"
        },
        "id": "aS9WSsHPu8s9",
        "outputId": "47370e4b-2e2e-404b-d7b9-08e93eb9dc8a"
      },
      "execution_count": 6,
      "outputs": [
        {
          "output_type": "execute_result",
          "data": {
            "text/plain": [
              "tensor([0.4914, 0.4822, 0.4465])"
            ]
          },
          "metadata": {},
          "execution_count": 6
        }
      ]
    },
    {
      "cell_type": "code",
      "source": [
        "imgs.view(3, -1).std(dim=1)"
      ],
      "metadata": {
        "colab": {
          "base_uri": "https://localhost:8080/"
        },
        "id": "pRzY7g0uu8vK",
        "outputId": "b4e3d21a-be19-46d1-dd49-998eb0a0dd3f"
      },
      "execution_count": 7,
      "outputs": [
        {
          "output_type": "execute_result",
          "data": {
            "text/plain": [
              "tensor([0.2470, 0.2435, 0.2616])"
            ]
          },
          "metadata": {},
          "execution_count": 7
        }
      ]
    },
    {
      "cell_type": "code",
      "source": [
        "cifar10 = datasets.CIFAR10('data', train=True, download=False,\n",
        "                          transform=transforms.Compose([\n",
        "                              transforms.ToTensor(),\n",
        "                              transforms.Normalize((0.4915, 0.4823, 0.4468),\n",
        "                                                   (0.2470, 0.2435, 0.2616))\n",
        "                          ]))"
      ],
      "metadata": {
        "id": "lnNJ2-m-w042"
      },
      "execution_count": 8,
      "outputs": []
    },
    {
      "cell_type": "code",
      "source": [
        "cifar10_val = datasets.CIFAR10('data', train=False, download=False,\n",
        "                          transform=transforms.Compose([\n",
        "                              transforms.ToTensor(),\n",
        "                              transforms.Normalize((0.4915, 0.4823, 0.4468),\n",
        "                                                   (0.2470, 0.2435, 0.2616))\n",
        "                          ]))"
      ],
      "metadata": {
        "id": "_T_AQdmQw07l"
      },
      "execution_count": 9,
      "outputs": []
    },
    {
      "cell_type": "code",
      "source": [
        "train_loader = torch.utils.data.DataLoader(cifar10, batch_size=64, shuffle=True)\n",
        "\n",
        "model = nn.Sequential(\n",
        "            nn.Linear(3072, 512),\n",
        "            nn.Tanh(),\n",
        "            nn.Linear(512, 10),\n",
        "            nn.LogSoftmax(dim=1))\n",
        "\n",
        "learning_rate = 1e-2\n",
        "\n",
        "optimizer = optim.SGD(model.parameters(), lr=learning_rate)\n",
        "\n",
        "loss_fn = nn.NLLLoss()\n",
        "\n",
        "n_epochs = 300\n",
        "\n",
        "for epoch in range(n_epochs):\n",
        "    for imgs, labels in train_loader:\n",
        "        outputs = model(imgs.view(imgs.shape[0], -1))\n",
        "        loss = loss_fn(outputs, labels)\n",
        "\n",
        "        optimizer.zero_grad()\n",
        "        loss.backward()\n",
        "        optimizer.step()\n",
        "\n",
        "    print(\"Epoch: %d, Loss: %f\" % (epoch, float(loss)))"
      ],
      "metadata": {
        "colab": {
          "base_uri": "https://localhost:8080/"
        },
        "id": "pe96n-10w2dB",
        "outputId": "b4ac9645-cc84-4a08-bbd5-f3e263838db2"
      },
      "execution_count": 10,
      "outputs": [
        {
          "output_type": "stream",
          "name": "stdout",
          "text": [
            "Epoch: 0, Loss: 1.839059\n",
            "Epoch: 1, Loss: 1.377479\n",
            "Epoch: 2, Loss: 1.992995\n",
            "Epoch: 3, Loss: 1.299178\n",
            "Epoch: 4, Loss: 1.646823\n",
            "Epoch: 5, Loss: 1.176374\n",
            "Epoch: 6, Loss: 1.235652\n",
            "Epoch: 7, Loss: 1.330879\n",
            "Epoch: 8, Loss: 2.059225\n",
            "Epoch: 9, Loss: 1.036934\n",
            "Epoch: 10, Loss: 1.231704\n",
            "Epoch: 11, Loss: 1.329209\n",
            "Epoch: 12, Loss: 1.224085\n",
            "Epoch: 13, Loss: 1.485193\n",
            "Epoch: 14, Loss: 0.891266\n",
            "Epoch: 15, Loss: 1.168995\n",
            "Epoch: 16, Loss: 1.122203\n",
            "Epoch: 17, Loss: 1.354010\n",
            "Epoch: 18, Loss: 0.666645\n",
            "Epoch: 19, Loss: 1.155142\n",
            "Epoch: 20, Loss: 1.205740\n",
            "Epoch: 21, Loss: 1.132131\n",
            "Epoch: 22, Loss: 1.020363\n",
            "Epoch: 23, Loss: 0.985348\n",
            "Epoch: 24, Loss: 0.934238\n",
            "Epoch: 25, Loss: 1.079740\n",
            "Epoch: 26, Loss: 0.973233\n",
            "Epoch: 27, Loss: 0.695339\n",
            "Epoch: 28, Loss: 0.756448\n",
            "Epoch: 29, Loss: 0.756735\n",
            "Epoch: 30, Loss: 1.070954\n",
            "Epoch: 31, Loss: 0.660786\n",
            "Epoch: 32, Loss: 0.645945\n",
            "Epoch: 33, Loss: 0.703800\n",
            "Epoch: 34, Loss: 0.493903\n",
            "Epoch: 35, Loss: 0.348452\n",
            "Epoch: 36, Loss: 0.575784\n",
            "Epoch: 37, Loss: 0.558789\n",
            "Epoch: 38, Loss: 0.642477\n",
            "Epoch: 39, Loss: 0.435089\n",
            "Epoch: 40, Loss: 0.511770\n",
            "Epoch: 41, Loss: 0.546717\n",
            "Epoch: 42, Loss: 0.702705\n",
            "Epoch: 43, Loss: 0.303007\n",
            "Epoch: 44, Loss: 0.553400\n",
            "Epoch: 45, Loss: 0.353300\n",
            "Epoch: 46, Loss: 0.446015\n",
            "Epoch: 47, Loss: 0.249653\n",
            "Epoch: 48, Loss: 0.380756\n",
            "Epoch: 49, Loss: 0.266621\n",
            "Epoch: 50, Loss: 0.221534\n",
            "Epoch: 51, Loss: 0.166328\n",
            "Epoch: 52, Loss: 0.149347\n",
            "Epoch: 53, Loss: 0.090285\n",
            "Epoch: 54, Loss: 0.359011\n",
            "Epoch: 55, Loss: 0.258383\n",
            "Epoch: 56, Loss: 0.332937\n",
            "Epoch: 57, Loss: 0.260933\n",
            "Epoch: 58, Loss: 0.097098\n",
            "Epoch: 59, Loss: 0.123366\n",
            "Epoch: 60, Loss: 0.280950\n",
            "Epoch: 61, Loss: 0.203705\n",
            "Epoch: 62, Loss: 0.317496\n",
            "Epoch: 63, Loss: 0.111279\n",
            "Epoch: 64, Loss: 0.137434\n",
            "Epoch: 65, Loss: 0.057209\n",
            "Epoch: 66, Loss: 0.040540\n",
            "Epoch: 67, Loss: 0.110365\n",
            "Epoch: 68, Loss: 0.129977\n",
            "Epoch: 69, Loss: 0.094334\n",
            "Epoch: 70, Loss: 0.052616\n",
            "Epoch: 71, Loss: 0.115409\n",
            "Epoch: 72, Loss: 0.073908\n",
            "Epoch: 73, Loss: 0.175344\n",
            "Epoch: 74, Loss: 0.088589\n",
            "Epoch: 75, Loss: 0.133913\n",
            "Epoch: 76, Loss: 0.142044\n",
            "Epoch: 77, Loss: 0.082235\n",
            "Epoch: 78, Loss: 0.070693\n",
            "Epoch: 79, Loss: 0.084338\n",
            "Epoch: 80, Loss: 0.074329\n",
            "Epoch: 81, Loss: 0.057273\n",
            "Epoch: 82, Loss: 0.060392\n",
            "Epoch: 83, Loss: 0.086393\n",
            "Epoch: 84, Loss: 0.151593\n",
            "Epoch: 85, Loss: 0.047740\n",
            "Epoch: 86, Loss: 0.073564\n",
            "Epoch: 87, Loss: 0.065613\n",
            "Epoch: 88, Loss: 0.042504\n",
            "Epoch: 89, Loss: 0.039670\n",
            "Epoch: 90, Loss: 0.063752\n",
            "Epoch: 91, Loss: 0.014911\n",
            "Epoch: 92, Loss: 0.023372\n",
            "Epoch: 93, Loss: 0.053538\n",
            "Epoch: 94, Loss: 0.054131\n",
            "Epoch: 95, Loss: 0.098496\n",
            "Epoch: 96, Loss: 0.028938\n",
            "Epoch: 97, Loss: 0.043288\n",
            "Epoch: 98, Loss: 0.044316\n",
            "Epoch: 99, Loss: 0.058230\n",
            "Epoch: 100, Loss: 0.051889\n",
            "Epoch: 101, Loss: 0.038447\n",
            "Epoch: 102, Loss: 0.071806\n",
            "Epoch: 103, Loss: 0.048144\n",
            "Epoch: 104, Loss: 0.015962\n",
            "Epoch: 105, Loss: 0.023276\n",
            "Epoch: 106, Loss: 0.046539\n",
            "Epoch: 107, Loss: 0.051585\n",
            "Epoch: 108, Loss: 0.037612\n",
            "Epoch: 109, Loss: 0.046216\n",
            "Epoch: 110, Loss: 0.032420\n",
            "Epoch: 111, Loss: 0.047059\n",
            "Epoch: 112, Loss: 0.022445\n",
            "Epoch: 113, Loss: 0.024492\n",
            "Epoch: 114, Loss: 0.035895\n",
            "Epoch: 115, Loss: 0.018647\n",
            "Epoch: 116, Loss: 0.025507\n",
            "Epoch: 117, Loss: 0.028471\n",
            "Epoch: 118, Loss: 0.030961\n",
            "Epoch: 119, Loss: 0.048866\n",
            "Epoch: 120, Loss: 0.036238\n",
            "Epoch: 121, Loss: 0.031241\n",
            "Epoch: 122, Loss: 0.012196\n",
            "Epoch: 123, Loss: 0.027130\n",
            "Epoch: 124, Loss: 0.027524\n",
            "Epoch: 125, Loss: 0.041702\n",
            "Epoch: 126, Loss: 0.039013\n",
            "Epoch: 127, Loss: 0.028188\n",
            "Epoch: 128, Loss: 0.023552\n",
            "Epoch: 129, Loss: 0.028405\n",
            "Epoch: 130, Loss: 0.025409\n",
            "Epoch: 131, Loss: 0.030679\n",
            "Epoch: 132, Loss: 0.021580\n",
            "Epoch: 133, Loss: 0.014662\n",
            "Epoch: 134, Loss: 0.028046\n",
            "Epoch: 135, Loss: 0.029236\n",
            "Epoch: 136, Loss: 0.025976\n",
            "Epoch: 137, Loss: 0.021821\n",
            "Epoch: 138, Loss: 0.026716\n",
            "Epoch: 139, Loss: 0.013536\n",
            "Epoch: 140, Loss: 0.028096\n",
            "Epoch: 141, Loss: 0.020969\n",
            "Epoch: 142, Loss: 0.025843\n",
            "Epoch: 143, Loss: 0.015586\n",
            "Epoch: 144, Loss: 0.015700\n",
            "Epoch: 145, Loss: 0.014370\n",
            "Epoch: 146, Loss: 0.019049\n",
            "Epoch: 147, Loss: 0.033882\n",
            "Epoch: 148, Loss: 0.013668\n",
            "Epoch: 149, Loss: 0.020082\n",
            "Epoch: 150, Loss: 0.012001\n",
            "Epoch: 151, Loss: 0.037149\n",
            "Epoch: 152, Loss: 0.023858\n",
            "Epoch: 153, Loss: 0.015725\n",
            "Epoch: 154, Loss: 0.029065\n",
            "Epoch: 155, Loss: 0.017362\n",
            "Epoch: 156, Loss: 0.020845\n",
            "Epoch: 157, Loss: 0.012040\n",
            "Epoch: 158, Loss: 0.013126\n",
            "Epoch: 159, Loss: 0.011367\n",
            "Epoch: 160, Loss: 0.018399\n",
            "Epoch: 161, Loss: 0.011761\n",
            "Epoch: 162, Loss: 0.011487\n",
            "Epoch: 163, Loss: 0.011222\n",
            "Epoch: 164, Loss: 0.016569\n",
            "Epoch: 165, Loss: 0.021387\n",
            "Epoch: 166, Loss: 0.016956\n",
            "Epoch: 167, Loss: 0.015503\n",
            "Epoch: 168, Loss: 0.017226\n",
            "Epoch: 169, Loss: 0.013086\n",
            "Epoch: 170, Loss: 0.017751\n",
            "Epoch: 171, Loss: 0.017116\n",
            "Epoch: 172, Loss: 0.011237\n",
            "Epoch: 173, Loss: 0.019843\n",
            "Epoch: 174, Loss: 0.015804\n",
            "Epoch: 175, Loss: 0.009139\n",
            "Epoch: 176, Loss: 0.010613\n",
            "Epoch: 177, Loss: 0.013511\n",
            "Epoch: 178, Loss: 0.014992\n",
            "Epoch: 179, Loss: 0.018666\n",
            "Epoch: 180, Loss: 0.010193\n",
            "Epoch: 181, Loss: 0.015411\n",
            "Epoch: 182, Loss: 0.017918\n",
            "Epoch: 183, Loss: 0.011730\n",
            "Epoch: 184, Loss: 0.010546\n",
            "Epoch: 185, Loss: 0.008792\n",
            "Epoch: 186, Loss: 0.008228\n",
            "Epoch: 187, Loss: 0.012254\n",
            "Epoch: 188, Loss: 0.015252\n",
            "Epoch: 189, Loss: 0.015044\n",
            "Epoch: 190, Loss: 0.010114\n",
            "Epoch: 191, Loss: 0.012038\n",
            "Epoch: 192, Loss: 0.011083\n",
            "Epoch: 193, Loss: 0.011713\n",
            "Epoch: 194, Loss: 0.011065\n",
            "Epoch: 195, Loss: 0.016802\n",
            "Epoch: 196, Loss: 0.011745\n",
            "Epoch: 197, Loss: 0.008781\n",
            "Epoch: 198, Loss: 0.009286\n",
            "Epoch: 199, Loss: 0.009699\n",
            "Epoch: 200, Loss: 0.010261\n",
            "Epoch: 201, Loss: 0.008509\n",
            "Epoch: 202, Loss: 0.024767\n",
            "Epoch: 203, Loss: 0.014397\n",
            "Epoch: 204, Loss: 0.009765\n",
            "Epoch: 205, Loss: 0.009490\n",
            "Epoch: 206, Loss: 0.008209\n",
            "Epoch: 207, Loss: 0.006914\n",
            "Epoch: 208, Loss: 0.016730\n",
            "Epoch: 209, Loss: 0.007112\n",
            "Epoch: 210, Loss: 0.005115\n",
            "Epoch: 211, Loss: 0.009239\n",
            "Epoch: 212, Loss: 0.007149\n",
            "Epoch: 213, Loss: 0.012685\n",
            "Epoch: 214, Loss: 0.007813\n",
            "Epoch: 215, Loss: 0.012909\n",
            "Epoch: 216, Loss: 0.013245\n",
            "Epoch: 217, Loss: 0.009661\n",
            "Epoch: 218, Loss: 0.008715\n",
            "Epoch: 219, Loss: 0.009708\n",
            "Epoch: 220, Loss: 0.011205\n",
            "Epoch: 221, Loss: 0.011119\n",
            "Epoch: 222, Loss: 0.007233\n",
            "Epoch: 223, Loss: 0.007157\n",
            "Epoch: 224, Loss: 0.013108\n",
            "Epoch: 225, Loss: 0.007317\n",
            "Epoch: 226, Loss: 0.008664\n",
            "Epoch: 227, Loss: 0.014582\n",
            "Epoch: 228, Loss: 0.008115\n",
            "Epoch: 229, Loss: 0.007609\n",
            "Epoch: 230, Loss: 0.010924\n",
            "Epoch: 231, Loss: 0.006721\n",
            "Epoch: 232, Loss: 0.009644\n",
            "Epoch: 233, Loss: 0.009640\n",
            "Epoch: 234, Loss: 0.013834\n",
            "Epoch: 235, Loss: 0.009356\n",
            "Epoch: 236, Loss: 0.008952\n",
            "Epoch: 237, Loss: 0.004798\n",
            "Epoch: 238, Loss: 0.008353\n",
            "Epoch: 239, Loss: 0.006321\n",
            "Epoch: 240, Loss: 0.009609\n",
            "Epoch: 241, Loss: 0.005972\n",
            "Epoch: 242, Loss: 0.007371\n",
            "Epoch: 243, Loss: 0.008365\n",
            "Epoch: 244, Loss: 0.008394\n",
            "Epoch: 245, Loss: 0.005283\n",
            "Epoch: 246, Loss: 0.005489\n",
            "Epoch: 247, Loss: 0.012046\n",
            "Epoch: 248, Loss: 0.007806\n",
            "Epoch: 249, Loss: 0.009850\n",
            "Epoch: 250, Loss: 0.011973\n",
            "Epoch: 251, Loss: 0.006049\n",
            "Epoch: 252, Loss: 0.006733\n",
            "Epoch: 253, Loss: 0.008592\n",
            "Epoch: 254, Loss: 0.007408\n",
            "Epoch: 255, Loss: 0.006825\n",
            "Epoch: 256, Loss: 0.008655\n",
            "Epoch: 257, Loss: 0.005796\n",
            "Epoch: 258, Loss: 0.006738\n",
            "Epoch: 259, Loss: 0.004446\n",
            "Epoch: 260, Loss: 0.011200\n",
            "Epoch: 261, Loss: 0.006097\n",
            "Epoch: 262, Loss: 0.005641\n",
            "Epoch: 263, Loss: 0.012948\n",
            "Epoch: 264, Loss: 0.004298\n",
            "Epoch: 265, Loss: 0.005599\n",
            "Epoch: 266, Loss: 0.007979\n",
            "Epoch: 267, Loss: 0.006968\n",
            "Epoch: 268, Loss: 0.005657\n",
            "Epoch: 269, Loss: 0.006692\n",
            "Epoch: 270, Loss: 0.005266\n",
            "Epoch: 271, Loss: 0.009529\n",
            "Epoch: 272, Loss: 0.008868\n",
            "Epoch: 273, Loss: 0.006800\n",
            "Epoch: 274, Loss: 0.006600\n",
            "Epoch: 275, Loss: 0.005959\n",
            "Epoch: 276, Loss: 0.004904\n",
            "Epoch: 277, Loss: 0.009385\n",
            "Epoch: 278, Loss: 0.007171\n",
            "Epoch: 279, Loss: 0.008111\n",
            "Epoch: 280, Loss: 0.005065\n",
            "Epoch: 281, Loss: 0.004928\n",
            "Epoch: 282, Loss: 0.008380\n",
            "Epoch: 283, Loss: 0.005820\n",
            "Epoch: 284, Loss: 0.008481\n",
            "Epoch: 285, Loss: 0.005703\n",
            "Epoch: 286, Loss: 0.005016\n",
            "Epoch: 287, Loss: 0.005393\n",
            "Epoch: 288, Loss: 0.006394\n",
            "Epoch: 289, Loss: 0.010048\n",
            "Epoch: 290, Loss: 0.006612\n",
            "Epoch: 291, Loss: 0.005180\n",
            "Epoch: 292, Loss: 0.006174\n",
            "Epoch: 293, Loss: 0.008607\n",
            "Epoch: 294, Loss: 0.005640\n",
            "Epoch: 295, Loss: 0.006257\n",
            "Epoch: 296, Loss: 0.004962\n",
            "Epoch: 297, Loss: 0.007522\n",
            "Epoch: 298, Loss: 0.007053\n",
            "Epoch: 299, Loss: 0.004049\n"
          ]
        }
      ]
    },
    {
      "cell_type": "code",
      "source": [
        "train_loader = torch.utils.data.DataLoader(cifar10, batch_size=64, shuffle=False)\n",
        "\n",
        "correct = 0\n",
        "total = 0\n",
        "\n",
        "with torch.no_grad():\n",
        "    for imgs, labels in train_loader:\n",
        "        outputs = model(imgs.view(imgs.shape[0], -1))\n",
        "        _, predicted = torch.max(outputs, dim=1)\n",
        "        total += labels.shape[0]\n",
        "        correct += int((predicted == labels).sum())\n",
        "        \n",
        "print(\"Accuracy: %f\" % (correct / total))"
      ],
      "metadata": {
        "id": "3nLu1Kdb48IK",
        "colab": {
          "base_uri": "https://localhost:8080/"
        },
        "outputId": "e9346d65-bac5-4b08-c1ab-9e3bb2460450"
      },
      "execution_count": 11,
      "outputs": [
        {
          "output_type": "stream",
          "name": "stdout",
          "text": [
            "Accuracy: 1.000000\n"
          ]
        }
      ]
    },
    {
      "cell_type": "code",
      "source": [
        "val_loader = torch.utils.data.DataLoader(cifar10_val, batch_size=64, shuffle=False)\n",
        "\n",
        "correct = 0\n",
        "total = 0\n",
        "\n",
        "with torch.no_grad():\n",
        "    for imgs, labels in val_loader:\n",
        "        outputs = model(imgs.view(imgs.shape[0], -1))\n",
        "        _, predicted = torch.max(outputs, dim=1)\n",
        "        total += labels.shape[0]\n",
        "        correct += int((predicted == labels).sum())\n",
        "        \n",
        "print(\"Accuracy: %f\" % (correct / total))"
      ],
      "metadata": {
        "id": "H_Tvm0CB48XE",
        "colab": {
          "base_uri": "https://localhost:8080/"
        },
        "outputId": "d01611af-c3f0-4856-fba4-aeac5a897d1d"
      },
      "execution_count": 12,
      "outputs": [
        {
          "output_type": "stream",
          "name": "stdout",
          "text": [
            "Accuracy: 0.467600\n"
          ]
        }
      ]
    }
  ]
}