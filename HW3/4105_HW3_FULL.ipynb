{
  "nbformat": 4,
  "nbformat_minor": 0,
  "metadata": {
    "colab": {
      "provenance": [],
      "collapsed_sections": [],
      "authorship_tag": "ABX9TyNeXqy1hUs0/49WGbaCtUAX",
      "include_colab_link": true
    },
    "kernelspec": {
      "name": "python3",
      "display_name": "Python 3"
    },
    "language_info": {
      "name": "python"
    }
  },
  "cells": [
    {
      "cell_type": "markdown",
      "metadata": {
        "id": "view-in-github",
        "colab_type": "text"
      },
      "source": [
        "<a href=\"https://colab.research.google.com/github/Mnikito/INTRO_ML/blob/main/HW3/4105_HW3_FULL.ipynb\" target=\"_parent\"><img src=\"https://colab.research.google.com/assets/colab-badge.svg\" alt=\"Open In Colab\"/></a>"
      ]
    },
    {
      "cell_type": "code",
      "execution_count": 1,
      "metadata": {
        "id": "5FcM1eQ7BL9W"
      },
      "outputs": [],
      "source": [
        "import numpy as np \n",
        "import pandas as pd \n",
        "import matplotlib.pyplot as plt\n",
        "from sklearn.model_selection import KFold\n",
        "from sklearn.model_selection import cross_val_score\n",
        "from sklearn.naive_bayes import GaussianNB\n",
        "from sklearn import datasets\n",
        "from sklearn.metrics import confusion_matrix\n",
        "from sklearn.metrics import classification_report\n",
        "from sklearn.model_selection import train_test_split\n",
        "import seaborn as sns\n",
        "from sklearn.preprocessing import StandardScaler\n",
        "from sklearn import metrics\n",
        "import sklearn\n",
        "\n",
        "seed = 9"
      ]
    },
    {
      "cell_type": "markdown",
      "source": [
        "### Problem 1"
      ],
      "metadata": {
        "id": "jFcP757zxOPS"
      }
    },
    {
      "cell_type": "code",
      "source": [
        "from sklearn.datasets import load_breast_cancer "
      ],
      "metadata": {
        "id": "aePCE2pWx2Ov"
      },
      "execution_count": 2,
      "outputs": []
    },
    {
      "cell_type": "code",
      "source": [
        "# Load Cancer Dataset and get ready for processing\n",
        "breast = load_breast_cancer() \n",
        "\n",
        "breast_data = breast.data \n",
        "\n",
        "breast_labels = breast.target \n",
        "labels = np.reshape(breast_labels,(569,1)) \n",
        "\n",
        "final_breast_data = np.concatenate([breast_data,labels],axis=1) \n",
        "breast_dataset = pd.DataFrame(final_breast_data) \n",
        "\n",
        "features = breast.feature_names \n",
        "features_labels = np.append(features,'label') \n",
        "\n",
        "\n",
        "breast_dataset.columns = features_labels \n",
        "\n",
        "#breast_dataset['label'].replace(0, 'Benign',inplace=True) \n",
        "#breast_dataset['label'].replace(1, 'Malignant',inplace=True) \n",
        "\n",
        "#breast_dataset.tail() \n",
        "\n",
        "# Preprocessing\n",
        "y = breast_dataset.pop('label')\n",
        "\n",
        "X = breast_dataset.copy()\n",
        "\n",
        "X_train, X_test, y_train, y_test = train_test_split(X,y, test_size=0.2, random_state=seed)\n",
        "\n",
        "# Standarizing Dataset\n",
        "\n",
        "sc = StandardScaler()\n",
        "\n",
        "X_train_std = sc.fit_transform(X_train)\n",
        "\n",
        "X_test_std = sc.fit_transform(X_test)\n"
      ],
      "metadata": {
        "id": "G935ctqbwk5r"
      },
      "execution_count": 3,
      "outputs": []
    },
    {
      "cell_type": "code",
      "source": [
        "# Naive Bayes Model\n",
        "\n",
        "classifier = GaussianNB()\n",
        "classifier.fit(X_train_std, y_train)\n",
        "\n",
        "\n",
        "expected = y_test\n",
        "predicted = classifier.predict(X_test_std)\n",
        "\n",
        "#Summarize model fit\n",
        "print(metrics.classification_report(expected,predicted))\n",
        "print(\"\\n=================\\nConfusion Matrix:\\n\")\n",
        "print(metrics.confusion_matrix(y_test, predicted))\n",
        "print(\"\\n\\n\")\n",
        "print(\"Accuracy:\",metrics.accuracy_score(y_test, predicted)) \n",
        "print(\"Precision:\",metrics.precision_score(y_test, predicted)) \n",
        "print(\"Recall:\",metrics.recall_score(y_test, predicted)) "
      ],
      "metadata": {
        "colab": {
          "base_uri": "https://localhost:8080/"
        },
        "id": "Kd3U38MoyLY-",
        "outputId": "aba47c6e-cf00-44d7-81ff-bf241789ab9f"
      },
      "execution_count": 4,
      "outputs": [
        {
          "output_type": "stream",
          "name": "stdout",
          "text": [
            "              precision    recall  f1-score   support\n",
            "\n",
            "         0.0       0.90      0.95      0.93        40\n",
            "         1.0       0.97      0.95      0.96        74\n",
            "\n",
            "    accuracy                           0.95       114\n",
            "   macro avg       0.94      0.95      0.94       114\n",
            "weighted avg       0.95      0.95      0.95       114\n",
            "\n",
            "\n",
            "=================\n",
            "Confusion Matrix:\n",
            "\n",
            "[[38  2]\n",
            " [ 4 70]]\n",
            "\n",
            "\n",
            "\n",
            "Accuracy: 0.9473684210526315\n",
            "Precision: 0.9722222222222222\n",
            "Recall: 0.9459459459459459\n"
          ]
        }
      ]
    },
    {
      "cell_type": "code",
      "source": [
        "from sklearn.metrics import PrecisionRecallDisplay\n",
        "\n",
        "display = PrecisionRecallDisplay.from_estimator(\n",
        "    classifier, X_test_std, y_test, name=\"GaussianNB\"\n",
        ")\n",
        "_ = display.ax_.set_title(\"2-class Precision-Recall curve\")"
      ],
      "metadata": {
        "colab": {
          "base_uri": "https://localhost:8080/",
          "height": 295
        },
        "id": "Gjp2CiU9LIdA",
        "outputId": "3575e9d9-2922-4d6d-a1d7-94d24fb8bee9"
      },
      "execution_count": 5,
      "outputs": [
        {
          "output_type": "display_data",
          "data": {
            "text/plain": [
              "<Figure size 432x288 with 1 Axes>"
            ],
            "image/png": "[encoded data removed]"
          },
          "metadata": {
            "needs_background": "light"
          }
        }
      ]
    },
    {
      "cell_type": "markdown",
      "source": [
        "### Problem 2"
      ],
      "metadata": {
        "id": "H1jAfwkMz5aH"
      }
    },
    {
      "cell_type": "markdown",
      "source": [
        "Using this link:\n",
        "https://dwbi1.wordpress.com/2021/04/16/logistic-regression-with-pca-in-python/"
      ],
      "metadata": {
        "id": "RjMAaYwX4854"
      }
    },
    {
      "cell_type": "code",
      "source": [
        "from sklearn.linear_model import LogisticRegression"
      ],
      "metadata": {
        "id": "1lNKx1rjCbs4"
      },
      "execution_count": 41,
      "outputs": []
    },
    {
      "cell_type": "code",
      "source": [
        "from sklearn.decomposition import PCA\n",
        "pca = PCA(random_state=88)\n",
        "pca.fit(X_train_std)\n",
        "explained_variance = np.cumsum(pca.explained_variance_ratio_)\n",
        "plt.vlines(x=10, ymax=1, ymin=0, colors=\"r\", linestyles=\"--\")\n",
        "plt.hlines(y=0.95, xmax=40, xmin=0, colors=\"g\", linestyles=\"--\")\n",
        "plt.plot(explained_variance)"
      ],
      "metadata": {
        "colab": {
          "base_uri": "https://localhost:8080/",
          "height": 282
        },
        "id": "WdJTZgDD0aRG",
        "outputId": "72cba758-33d1-438c-9aae-836eb6a6f088"
      },
      "execution_count": 45,
      "outputs": [
        {
          "output_type": "execute_result",
          "data": {
            "text/plain": [
              "[<matplotlib.lines.Line2D at 0x7fdc589b19d0>]"
            ]
          },
          "metadata": {},
          "execution_count": 45
        },
        {
          "output_type": "display_data",
          "data": {
            "text/plain": [
              "<Figure size 432x288 with 1 Axes>"
            ],
            "image/png": "[encoded data removed]"
          },
          "metadata": {
            "needs_background": "light"
          }
        }
      ]
    },
    {
      "cell_type": "code",
      "source": [
        "pca_final = PCA(n_components=25)\n",
        "df_train_pca = pca_final.fit_transform(X_train_std)\n",
        "\n",
        "corr_mat = np.corrcoef(df_train_pca.transpose())\n",
        "plt.figure(figsize=[15,8])\n",
        "sns.heatmap(corr_mat)\n",
        "plt.show()"
      ],
      "metadata": {
        "colab": {
          "base_uri": "https://localhost:8080/",
          "height": 487
        },
        "id": "ul8VBRew5GIT",
        "outputId": "c447be99-8235-4103-eea9-0df8c223d781"
      },
      "execution_count": 47,
      "outputs": [
        {
          "output_type": "display_data",
          "data": {
            "text/plain": [
              "<Figure size 1080x576 with 2 Axes>"
            ],
            "image/png": "[encoded data removed]"
          },
          "metadata": {
            "needs_background": "light"
          }
        }
      ]
    },
    {
      "cell_type": "code",
      "source": [
        "# Train the PCA model \n",
        "\n",
        "acc = []\n",
        "prec = []\n",
        "rec = []\n",
        "kk =[]\n",
        "\n",
        "for k in range(1,30):\n",
        "  pca_final = PCA(n_components=k, svd_solver = 'full')\n",
        "  df_train_pca = pca_final.fit_transform(X_train_std)\n",
        "  df_test_pca = pca_final.transform(X_test_std)\n",
        "\n",
        "  df_train_pca_std = sc.fit_transform(df_train_pca)\n",
        "  df_test_pca_std = sc.fit_transform(df_test_pca)\n",
        "\n",
        "  # Train the Logistic Regression model\n",
        "  LR_PCA_Learner = GaussianNB()\n",
        "  #LR_PCA_Learner = LogisticRegression()\n",
        "  LR_PCA_Model = LR_PCA_Learner.fit(df_train_pca_std, y_train)\n",
        "\n",
        "\n",
        "  predicted = LR_PCA_Model.predict(df_test_pca)\n",
        "\n",
        "  kk.append(k)\n",
        "  acc.append(metrics.accuracy_score(y_test, predicted)) \n",
        "  prec.append(metrics.precision_score(y_test, predicted)) \n",
        "  rec.append(metrics.recall_score(y_test, predicted)) "
      ],
      "metadata": {
        "id": "um8hyo4g4ryz"
      },
      "execution_count": 68,
      "outputs": []
    },
    {
      "cell_type": "code",
      "source": [
        "# Plot\n",
        "plt.plot(kk,acc, label = \"Accuracy\")\n",
        "plt.plot(kk,prec, label = \"Precision\")\n",
        "plt.plot(kk,rec, label = \"Recall\")\n",
        "plt.legend()\n",
        "plt.xlabel(\"n_components\")\n",
        "plt.savefig(\"PCA_Plot.png\")"
      ],
      "metadata": {
        "colab": {
          "base_uri": "https://localhost:8080/",
          "height": 280
        },
        "id": "-sVkSMCZEB52",
        "outputId": "8024e3d3-fb5b-4d81-d46c-bcea1c541f2e"
      },
      "execution_count": 69,
      "outputs": [
        {
          "output_type": "display_data",
          "data": {
            "text/plain": [
              "<Figure size 432x288 with 1 Axes>"
            ],
            "image/png": "[encoded data removed]"
          },
          "metadata": {
            "needs_background": "light"
          }
        }
      ]
    }
  ]
}